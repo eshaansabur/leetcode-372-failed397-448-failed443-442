{
 "cells": [
  {
   "cell_type": "code",
   "execution_count": 17,
   "id": "d99757a6-b8da-4850-bb43-6dd02a88eabc",
   "metadata": {},
   "outputs": [
    {
     "data": {
      "text/plain": [
       "1"
      ]
     },
     "execution_count": 17,
     "metadata": {},
     "output_type": "execute_result"
    }
   ],
   "source": [
    "a = 1338\n",
    "b = b = [2]\n",
    "def superPow(a, b):\n",
    "    str_b=\"\"\n",
    "    for i in b:\n",
    "        str_b= str_b+str(i)\n",
    "    #print(a, int(str_b))\n",
    "    str_b= int(str_b)\n",
    "    return pow(a, str_b, 1337)\n",
    "\n",
    "superPow(a, b)"
   ]
  },
  {
   "cell_type": "code",
   "execution_count": 15,
   "id": "c7764e39-7459-4a6d-bca9-52c00117aafe",
   "metadata": {},
   "outputs": [
    {
     "name": "stdout",
     "output_type": "stream",
     "text": [
      "1234\n",
      "616\n",
      "308\n",
      "154\n",
      "76\n",
      "38\n",
      "18\n",
      "8\n",
      "4\n",
      "2\n",
      "1\n"
     ]
    },
    {
     "data": {
      "text/plain": [
       "10"
      ]
     },
     "execution_count": 15,
     "metadata": {},
     "output_type": "execute_result"
    }
   ],
   "source": [
    "n = 1234\n",
    "def integerReplacement(n):\n",
    "    count=-1\n",
    "    num= n\n",
    "    if n==1:\n",
    "        return 0\n",
    "    elif n%2==0:\n",
    "        n=n\n",
    "    else:\n",
    "        n= n+1\n",
    "        count= count+1\n",
    "    while n >= 1:\n",
    "        count=count+1\n",
    "        if n!=1 and n%2==1:\n",
    "            n_plus=n+1\n",
    "            n_minus=n-1\n",
    "            n= min(n_plus, n_minus)\n",
    "            #print(n)\n",
    "        else:\n",
    "            n=n\n",
    "        print(n)\n",
    "        n = n // 2\n",
    "    if num==1:\n",
    "        return count-1\n",
    "    else:\n",
    "        return count\n",
    "    \n",
    "\n",
    "integerReplacement(n)"
   ]
  },
  {
   "cell_type": "code",
   "execution_count": 24,
   "id": "3fe06010-0ce8-456a-ba79-549045b9bb2f",
   "metadata": {},
   "outputs": [
    {
     "name": "stdout",
     "output_type": "stream",
     "text": [
      "Counter({3: 2, 2: 2, 4: 1, 7: 1, 8: 1, 1: 1})\n"
     ]
    },
    {
     "data": {
      "text/plain": [
       "[5, 6]"
      ]
     },
     "execution_count": 24,
     "metadata": {},
     "output_type": "execute_result"
    }
   ],
   "source": [
    "from collections import Counter\n",
    "nums = [4,3,2,7,8,2,3,1]\n",
    "def findDisappearedNumbers(nums):\n",
    "    d = Counter(nums)\n",
    "    #print(d)\n",
    "    result=[]\n",
    "    for i in range(1, len(nums)+1):\n",
    "        if d[i]==0:\n",
    "            result.append(i)\n",
    "    return result\n",
    "\n",
    "findDisappearedNumbers(nums)"
   ]
  },
  {
   "cell_type": "code",
   "execution_count": 32,
   "id": "a4addbf4-a63a-4c89-82a9-f8b3c61c9131",
   "metadata": {},
   "outputs": [
    {
     "name": "stdout",
     "output_type": "stream",
     "text": [
      "['a', 2, 'b', 2, 'c', 3]\n"
     ]
    },
    {
     "data": {
      "text/plain": [
       "6"
      ]
     },
     "execution_count": 32,
     "metadata": {},
     "output_type": "execute_result"
    }
   ],
   "source": [
    "chars = [\"a\",\"a\",\"b\",\"b\",\"c\",\"c\",\"c\"]\n",
    "def compress(chars):\n",
    "    compress_list= []\n",
    "    if len(chars)==1:\n",
    "        return 1\n",
    "    elif len(chars)==0:\n",
    "        return 0\n",
    "    else:\n",
    "        p= Counter(chars)\n",
    "        #print(p)\n",
    "        for k, v in p.items():\n",
    "            #print(k, v)\n",
    "            compress_list.append(k)\n",
    "            compress_list.append(v)\n",
    "    print(compress_list)\n",
    "    return len(compress_list)\n",
    "\n",
    "compress(chars)"
   ]
  },
  {
   "cell_type": "code",
   "execution_count": 34,
   "id": "0b0f9f03-e992-4a4b-b193-8808febf384f",
   "metadata": {},
   "outputs": [
    {
     "name": "stdout",
     "output_type": "stream",
     "text": [
      "Counter({3: 2, 2: 2, 4: 1, 7: 1, 8: 1, 1: 1})\n"
     ]
    },
    {
     "data": {
      "text/plain": [
       "[3, 2]"
      ]
     },
     "execution_count": 34,
     "metadata": {},
     "output_type": "execute_result"
    }
   ],
   "source": [
    "nums = [4,3,2,7,8,2,3,1]\n",
    "def findDuplicates(nums):\n",
    "    count= Counter(nums)\n",
    "    dups= []\n",
    "    for k, v in count.items():\n",
    "        if v>1:\n",
    "           dups.append(k)\n",
    "    return dups\n",
    "    \n",
    "findDuplicates(nums)"
   ]
  },
  {
   "cell_type": "code",
   "execution_count": null,
   "id": "83df9426-5c5f-4e97-bb7a-3137c06d87e7",
   "metadata": {},
   "outputs": [],
   "source": []
  }
 ],
 "metadata": {
  "kernelspec": {
   "display_name": "Python 3 (ipykernel)",
   "language": "python",
   "name": "python3"
  },
  "language_info": {
   "codemirror_mode": {
    "name": "ipython",
    "version": 3
   },
   "file_extension": ".py",
   "mimetype": "text/x-python",
   "name": "python",
   "nbconvert_exporter": "python",
   "pygments_lexer": "ipython3",
   "version": "3.11.7"
  }
 },
 "nbformat": 4,
 "nbformat_minor": 5
}
